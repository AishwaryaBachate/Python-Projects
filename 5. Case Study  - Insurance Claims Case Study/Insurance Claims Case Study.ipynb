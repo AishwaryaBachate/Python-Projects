{
 "cells": [
  {
   "cell_type": "markdown",
   "id": "1444a67c",
   "metadata": {},
   "source": [
    "### INSURANCE CLAIMS DATA = DATA EXPLORATORY ANALYSIS AND HYPOTHESIS TESTING"
   ]
  },
  {
   "cell_type": "markdown",
   "id": "948261e9",
   "metadata": {},
   "source": [
    "### 1. Import claims_data.csv and cust_data.csv which is provided to you and combine the two datasets appropriately to create a 360-degree view of the data. Use the same for the subsequent questions."
   ]
  },
  {
   "cell_type": "code",
   "execution_count": 1,
   "id": "6fb5dffa",
   "metadata": {},
   "outputs": [],
   "source": [
    "import numpy as np\n",
    "import pandas as pd\n",
    "import datetime as dt\n",
    "import re\n",
    "# Libraries to help with data visualization\n",
    "import matplotlib.pyplot as plt\n",
    "import seaborn as sns\n",
    "\n",
    "# Command to tell Python to actually display the graphs\n",
    "%matplotlib inline\n",
    "\n",
    "from warnings import filterwarnings\n",
    "filterwarnings(\"ignore\")"
   ]
  },
  {
   "cell_type": "code",
   "execution_count": 2,
   "id": "2d20f04e",
   "metadata": {},
   "outputs": [],
   "source": [
    "# Importing data sets\n",
    "cust_data = pd.read_csv(\"D:\\Data Analyssis\\Python\\Case studies\\Case Study 3 - Insurance Claims Case Study\\cust_demographics.csv\")\n",
    "claims_data = pd.read_csv(\"D:\\Data Analyssis\\Python\\Case studies\\Case Study 3 - Insurance Claims Case Study\\claims.csv\")"
   ]
  },
  {
   "cell_type": "code",
   "execution_count": 3,
   "id": "c7f60bcb",
   "metadata": {},
   "outputs": [
    {
     "data": {
      "text/html": [
       "<div>\n",
       "<style scoped>\n",
       "    .dataframe tbody tr th:only-of-type {\n",
       "        vertical-align: middle;\n",
       "    }\n",
       "\n",
       "    .dataframe tbody tr th {\n",
       "        vertical-align: top;\n",
       "    }\n",
       "\n",
       "    .dataframe thead th {\n",
       "        text-align: right;\n",
       "    }\n",
       "</style>\n",
       "<table border=\"1\" class=\"dataframe\">\n",
       "  <thead>\n",
       "    <tr style=\"text-align: right;\">\n",
       "      <th></th>\n",
       "      <th>CUST_ID</th>\n",
       "      <th>gender</th>\n",
       "      <th>DateOfBirth</th>\n",
       "      <th>State</th>\n",
       "      <th>Contact</th>\n",
       "      <th>Segment</th>\n",
       "    </tr>\n",
       "  </thead>\n",
       "  <tbody>\n",
       "    <tr>\n",
       "      <th>0</th>\n",
       "      <td>21868593</td>\n",
       "      <td>Female</td>\n",
       "      <td>12-Jan-79</td>\n",
       "      <td>VT</td>\n",
       "      <td>789-916-8172</td>\n",
       "      <td>Platinum</td>\n",
       "    </tr>\n",
       "    <tr>\n",
       "      <th>1</th>\n",
       "      <td>75740424</td>\n",
       "      <td>Female</td>\n",
       "      <td>13-Jan-70</td>\n",
       "      <td>ME</td>\n",
       "      <td>265-543-1264</td>\n",
       "      <td>Silver</td>\n",
       "    </tr>\n",
       "  </tbody>\n",
       "</table>\n",
       "</div>"
      ],
      "text/plain": [
       "    CUST_ID  gender DateOfBirth State       Contact   Segment\n",
       "0  21868593  Female   12-Jan-79    VT  789-916-8172  Platinum\n",
       "1  75740424  Female   13-Jan-70    ME  265-543-1264    Silver"
      ]
     },
     "execution_count": 3,
     "metadata": {},
     "output_type": "execute_result"
    }
   ],
   "source": [
    "cust_data.head(2)"
   ]
  },
  {
   "cell_type": "code",
   "execution_count": 4,
   "id": "a95b3dca",
   "metadata": {},
   "outputs": [
    {
     "data": {
      "text/html": [
       "<div>\n",
       "<style scoped>\n",
       "    .dataframe tbody tr th:only-of-type {\n",
       "        vertical-align: middle;\n",
       "    }\n",
       "\n",
       "    .dataframe tbody tr th {\n",
       "        vertical-align: top;\n",
       "    }\n",
       "\n",
       "    .dataframe thead th {\n",
       "        text-align: right;\n",
       "    }\n",
       "</style>\n",
       "<table border=\"1\" class=\"dataframe\">\n",
       "  <thead>\n",
       "    <tr style=\"text-align: right;\">\n",
       "      <th></th>\n",
       "      <th>claim_id</th>\n",
       "      <th>customer_id</th>\n",
       "      <th>incident_cause</th>\n",
       "      <th>claim_date</th>\n",
       "      <th>claim_area</th>\n",
       "      <th>police_report</th>\n",
       "      <th>claim_type</th>\n",
       "      <th>claim_amount</th>\n",
       "      <th>total_policy_claims</th>\n",
       "      <th>fraudulent</th>\n",
       "    </tr>\n",
       "  </thead>\n",
       "  <tbody>\n",
       "    <tr>\n",
       "      <th>0</th>\n",
       "      <td>54004764</td>\n",
       "      <td>21868593</td>\n",
       "      <td>Driver error</td>\n",
       "      <td>11/27/2017</td>\n",
       "      <td>Auto</td>\n",
       "      <td>No</td>\n",
       "      <td>Material only</td>\n",
       "      <td>$2980</td>\n",
       "      <td>1.0</td>\n",
       "      <td>No</td>\n",
       "    </tr>\n",
       "    <tr>\n",
       "      <th>1</th>\n",
       "      <td>33985796</td>\n",
       "      <td>75740424</td>\n",
       "      <td>Crime</td>\n",
       "      <td>10/03/2018</td>\n",
       "      <td>Home</td>\n",
       "      <td>Unknown</td>\n",
       "      <td>Material only</td>\n",
       "      <td>$2980</td>\n",
       "      <td>3.0</td>\n",
       "      <td>No</td>\n",
       "    </tr>\n",
       "  </tbody>\n",
       "</table>\n",
       "</div>"
      ],
      "text/plain": [
       "   claim_id  customer_id incident_cause  claim_date claim_area police_report  \\\n",
       "0  54004764     21868593   Driver error  11/27/2017       Auto            No   \n",
       "1  33985796     75740424          Crime  10/03/2018       Home       Unknown   \n",
       "\n",
       "      claim_type claim_amount  total_policy_claims fraudulent  \n",
       "0  Material only        $2980                  1.0         No  \n",
       "1  Material only        $2980                  3.0         No  "
      ]
     },
     "execution_count": 4,
     "metadata": {},
     "output_type": "execute_result"
    }
   ],
   "source": [
    "claims_data.head(2)"
   ]
  },
  {
   "cell_type": "code",
   "execution_count": 5,
   "id": "cc3de791",
   "metadata": {},
   "outputs": [],
   "source": [
    "# Renamed some columns name\n",
    "cust_data = cust_data.rename(columns = {'CUST_ID':'customer_id', 'DateOfBirth':'date_of_birth','State':'state','Contact':'contact','Segment':'segment'})"
   ]
  },
  {
   "cell_type": "code",
   "execution_count": 6,
   "id": "a10a8f1f",
   "metadata": {},
   "outputs": [
    {
     "data": {
      "text/html": [
       "<div>\n",
       "<style scoped>\n",
       "    .dataframe tbody tr th:only-of-type {\n",
       "        vertical-align: middle;\n",
       "    }\n",
       "\n",
       "    .dataframe tbody tr th {\n",
       "        vertical-align: top;\n",
       "    }\n",
       "\n",
       "    .dataframe thead th {\n",
       "        text-align: right;\n",
       "    }\n",
       "</style>\n",
       "<table border=\"1\" class=\"dataframe\">\n",
       "  <thead>\n",
       "    <tr style=\"text-align: right;\">\n",
       "      <th></th>\n",
       "      <th>customer_id</th>\n",
       "      <th>gender</th>\n",
       "      <th>date_of_birth</th>\n",
       "      <th>state</th>\n",
       "      <th>contact</th>\n",
       "      <th>segment</th>\n",
       "    </tr>\n",
       "  </thead>\n",
       "  <tbody>\n",
       "    <tr>\n",
       "      <th>0</th>\n",
       "      <td>21868593</td>\n",
       "      <td>Female</td>\n",
       "      <td>12-Jan-79</td>\n",
       "      <td>VT</td>\n",
       "      <td>789-916-8172</td>\n",
       "      <td>Platinum</td>\n",
       "    </tr>\n",
       "    <tr>\n",
       "      <th>1</th>\n",
       "      <td>75740424</td>\n",
       "      <td>Female</td>\n",
       "      <td>13-Jan-70</td>\n",
       "      <td>ME</td>\n",
       "      <td>265-543-1264</td>\n",
       "      <td>Silver</td>\n",
       "    </tr>\n",
       "  </tbody>\n",
       "</table>\n",
       "</div>"
      ],
      "text/plain": [
       "   customer_id  gender date_of_birth state       contact   segment\n",
       "0     21868593  Female     12-Jan-79    VT  789-916-8172  Platinum\n",
       "1     75740424  Female     13-Jan-70    ME  265-543-1264    Silver"
      ]
     },
     "execution_count": 6,
     "metadata": {},
     "output_type": "execute_result"
    }
   ],
   "source": [
    "cust_data.head(2)"
   ]
  },
  {
   "cell_type": "code",
   "execution_count": 7,
   "id": "fcab16b7",
   "metadata": {},
   "outputs": [],
   "source": [
    "# Merging the datasets based on 'customer_id'\n",
    "customer_claims = pd.merge(claims_data, cust_data, on='customer_id', how='left')"
   ]
  },
  {
   "cell_type": "code",
   "execution_count": 8,
   "id": "342a73cc",
   "metadata": {},
   "outputs": [
    {
     "data": {
      "text/html": [
       "<div>\n",
       "<style scoped>\n",
       "    .dataframe tbody tr th:only-of-type {\n",
       "        vertical-align: middle;\n",
       "    }\n",
       "\n",
       "    .dataframe tbody tr th {\n",
       "        vertical-align: top;\n",
       "    }\n",
       "\n",
       "    .dataframe thead th {\n",
       "        text-align: right;\n",
       "    }\n",
       "</style>\n",
       "<table border=\"1\" class=\"dataframe\">\n",
       "  <thead>\n",
       "    <tr style=\"text-align: right;\">\n",
       "      <th></th>\n",
       "      <th>claim_id</th>\n",
       "      <th>customer_id</th>\n",
       "      <th>incident_cause</th>\n",
       "      <th>claim_date</th>\n",
       "      <th>claim_area</th>\n",
       "      <th>police_report</th>\n",
       "      <th>claim_type</th>\n",
       "      <th>claim_amount</th>\n",
       "      <th>total_policy_claims</th>\n",
       "      <th>fraudulent</th>\n",
       "      <th>gender</th>\n",
       "      <th>date_of_birth</th>\n",
       "      <th>state</th>\n",
       "      <th>contact</th>\n",
       "      <th>segment</th>\n",
       "    </tr>\n",
       "  </thead>\n",
       "  <tbody>\n",
       "    <tr>\n",
       "      <th>0</th>\n",
       "      <td>54004764</td>\n",
       "      <td>21868593</td>\n",
       "      <td>Driver error</td>\n",
       "      <td>11/27/2017</td>\n",
       "      <td>Auto</td>\n",
       "      <td>No</td>\n",
       "      <td>Material only</td>\n",
       "      <td>$2980</td>\n",
       "      <td>1.0</td>\n",
       "      <td>No</td>\n",
       "      <td>Female</td>\n",
       "      <td>12-Jan-79</td>\n",
       "      <td>VT</td>\n",
       "      <td>789-916-8172</td>\n",
       "      <td>Platinum</td>\n",
       "    </tr>\n",
       "    <tr>\n",
       "      <th>1</th>\n",
       "      <td>33985796</td>\n",
       "      <td>75740424</td>\n",
       "      <td>Crime</td>\n",
       "      <td>10/03/2018</td>\n",
       "      <td>Home</td>\n",
       "      <td>Unknown</td>\n",
       "      <td>Material only</td>\n",
       "      <td>$2980</td>\n",
       "      <td>3.0</td>\n",
       "      <td>No</td>\n",
       "      <td>Female</td>\n",
       "      <td>13-Jan-70</td>\n",
       "      <td>ME</td>\n",
       "      <td>265-543-1264</td>\n",
       "      <td>Silver</td>\n",
       "    </tr>\n",
       "    <tr>\n",
       "      <th>2</th>\n",
       "      <td>53522022</td>\n",
       "      <td>30308357</td>\n",
       "      <td>Other driver error</td>\n",
       "      <td>02/02/2018</td>\n",
       "      <td>Auto</td>\n",
       "      <td>No</td>\n",
       "      <td>Material only</td>\n",
       "      <td>$3369.5</td>\n",
       "      <td>1.0</td>\n",
       "      <td>Yes</td>\n",
       "      <td>Female</td>\n",
       "      <td>11-Mar-84</td>\n",
       "      <td>TN</td>\n",
       "      <td>798-631-4758</td>\n",
       "      <td>Silver</td>\n",
       "    </tr>\n",
       "    <tr>\n",
       "      <th>3</th>\n",
       "      <td>13015401</td>\n",
       "      <td>47830476</td>\n",
       "      <td>Natural causes</td>\n",
       "      <td>06/17/2018</td>\n",
       "      <td>Auto</td>\n",
       "      <td>No</td>\n",
       "      <td>Material only</td>\n",
       "      <td>$1680</td>\n",
       "      <td>1.0</td>\n",
       "      <td>No</td>\n",
       "      <td>Female</td>\n",
       "      <td>01-May-86</td>\n",
       "      <td>MA</td>\n",
       "      <td>413-187-7945</td>\n",
       "      <td>Silver</td>\n",
       "    </tr>\n",
       "    <tr>\n",
       "      <th>4</th>\n",
       "      <td>22890252</td>\n",
       "      <td>19269962</td>\n",
       "      <td>Crime</td>\n",
       "      <td>01/13/2018</td>\n",
       "      <td>Auto</td>\n",
       "      <td>No</td>\n",
       "      <td>Material only</td>\n",
       "      <td>$2680</td>\n",
       "      <td>1.0</td>\n",
       "      <td>No</td>\n",
       "      <td>Male</td>\n",
       "      <td>13-May-77</td>\n",
       "      <td>NV</td>\n",
       "      <td>956-871-8691</td>\n",
       "      <td>Gold</td>\n",
       "    </tr>\n",
       "    <tr>\n",
       "      <th>...</th>\n",
       "      <td>...</td>\n",
       "      <td>...</td>\n",
       "      <td>...</td>\n",
       "      <td>...</td>\n",
       "      <td>...</td>\n",
       "      <td>...</td>\n",
       "      <td>...</td>\n",
       "      <td>...</td>\n",
       "      <td>...</td>\n",
       "      <td>...</td>\n",
       "      <td>...</td>\n",
       "      <td>...</td>\n",
       "      <td>...</td>\n",
       "      <td>...</td>\n",
       "      <td>...</td>\n",
       "    </tr>\n",
       "    <tr>\n",
       "      <th>1095</th>\n",
       "      <td>97727122</td>\n",
       "      <td>35951012</td>\n",
       "      <td>Other driver error</td>\n",
       "      <td>06/11/2017</td>\n",
       "      <td>Auto</td>\n",
       "      <td>No</td>\n",
       "      <td>Material only</td>\n",
       "      <td>$3059</td>\n",
       "      <td>4.0</td>\n",
       "      <td>Yes</td>\n",
       "      <td>NaN</td>\n",
       "      <td>NaN</td>\n",
       "      <td>NaN</td>\n",
       "      <td>NaN</td>\n",
       "      <td>NaN</td>\n",
       "    </tr>\n",
       "    <tr>\n",
       "      <th>1096</th>\n",
       "      <td>10247193</td>\n",
       "      <td>14818669</td>\n",
       "      <td>Natural causes</td>\n",
       "      <td>03/14/2018</td>\n",
       "      <td>Auto</td>\n",
       "      <td>No</td>\n",
       "      <td>Material only</td>\n",
       "      <td>$1520</td>\n",
       "      <td>2.0</td>\n",
       "      <td>No</td>\n",
       "      <td>NaN</td>\n",
       "      <td>NaN</td>\n",
       "      <td>NaN</td>\n",
       "      <td>NaN</td>\n",
       "      <td>NaN</td>\n",
       "    </tr>\n",
       "    <tr>\n",
       "      <th>1097</th>\n",
       "      <td>79807493</td>\n",
       "      <td>85322831</td>\n",
       "      <td>Other driver error</td>\n",
       "      <td>02/09/2018</td>\n",
       "      <td>Auto</td>\n",
       "      <td>No</td>\n",
       "      <td>Material and injury</td>\n",
       "      <td>$23575</td>\n",
       "      <td>2.0</td>\n",
       "      <td>Yes</td>\n",
       "      <td>NaN</td>\n",
       "      <td>NaN</td>\n",
       "      <td>NaN</td>\n",
       "      <td>NaN</td>\n",
       "      <td>NaN</td>\n",
       "    </tr>\n",
       "    <tr>\n",
       "      <th>1098</th>\n",
       "      <td>69299345</td>\n",
       "      <td>73449366</td>\n",
       "      <td>Other causes</td>\n",
       "      <td>03/21/2018</td>\n",
       "      <td>Auto</td>\n",
       "      <td>Unknown</td>\n",
       "      <td>Material and injury</td>\n",
       "      <td>$25120</td>\n",
       "      <td>1.0</td>\n",
       "      <td>No</td>\n",
       "      <td>NaN</td>\n",
       "      <td>NaN</td>\n",
       "      <td>NaN</td>\n",
       "      <td>NaN</td>\n",
       "      <td>NaN</td>\n",
       "    </tr>\n",
       "    <tr>\n",
       "      <th>1099</th>\n",
       "      <td>58809728</td>\n",
       "      <td>43020876</td>\n",
       "      <td>Other driver error</td>\n",
       "      <td>06/04/2017</td>\n",
       "      <td>Auto</td>\n",
       "      <td>Yes</td>\n",
       "      <td>Material and injury</td>\n",
       "      <td>$36685</td>\n",
       "      <td>3.0</td>\n",
       "      <td>Yes</td>\n",
       "      <td>NaN</td>\n",
       "      <td>NaN</td>\n",
       "      <td>NaN</td>\n",
       "      <td>NaN</td>\n",
       "      <td>NaN</td>\n",
       "    </tr>\n",
       "  </tbody>\n",
       "</table>\n",
       "<p>1100 rows × 15 columns</p>\n",
       "</div>"
      ],
      "text/plain": [
       "      claim_id  customer_id      incident_cause  claim_date claim_area  \\\n",
       "0     54004764     21868593        Driver error  11/27/2017       Auto   \n",
       "1     33985796     75740424               Crime  10/03/2018       Home   \n",
       "2     53522022     30308357  Other driver error  02/02/2018       Auto   \n",
       "3     13015401     47830476      Natural causes  06/17/2018       Auto   \n",
       "4     22890252     19269962               Crime  01/13/2018       Auto   \n",
       "...        ...          ...                 ...         ...        ...   \n",
       "1095  97727122     35951012  Other driver error  06/11/2017       Auto   \n",
       "1096  10247193     14818669      Natural causes  03/14/2018       Auto   \n",
       "1097  79807493     85322831  Other driver error  02/09/2018       Auto   \n",
       "1098  69299345     73449366        Other causes  03/21/2018       Auto   \n",
       "1099  58809728     43020876  Other driver error  06/04/2017       Auto   \n",
       "\n",
       "     police_report           claim_type claim_amount  total_policy_claims  \\\n",
       "0               No        Material only        $2980                  1.0   \n",
       "1          Unknown        Material only        $2980                  3.0   \n",
       "2               No        Material only      $3369.5                  1.0   \n",
       "3               No        Material only        $1680                  1.0   \n",
       "4               No        Material only        $2680                  1.0   \n",
       "...            ...                  ...          ...                  ...   \n",
       "1095            No        Material only        $3059                  4.0   \n",
       "1096            No        Material only        $1520                  2.0   \n",
       "1097            No  Material and injury       $23575                  2.0   \n",
       "1098       Unknown  Material and injury       $25120                  1.0   \n",
       "1099           Yes  Material and injury       $36685                  3.0   \n",
       "\n",
       "     fraudulent  gender date_of_birth state       contact   segment  \n",
       "0            No  Female     12-Jan-79    VT  789-916-8172  Platinum  \n",
       "1            No  Female     13-Jan-70    ME  265-543-1264    Silver  \n",
       "2           Yes  Female     11-Mar-84    TN  798-631-4758    Silver  \n",
       "3            No  Female     01-May-86    MA  413-187-7945    Silver  \n",
       "4            No    Male     13-May-77    NV  956-871-8691      Gold  \n",
       "...         ...     ...           ...   ...           ...       ...  \n",
       "1095        Yes     NaN           NaN   NaN           NaN       NaN  \n",
       "1096         No     NaN           NaN   NaN           NaN       NaN  \n",
       "1097        Yes     NaN           NaN   NaN           NaN       NaN  \n",
       "1098         No     NaN           NaN   NaN           NaN       NaN  \n",
       "1099        Yes     NaN           NaN   NaN           NaN       NaN  \n",
       "\n",
       "[1100 rows x 15 columns]"
      ]
     },
     "execution_count": 8,
     "metadata": {},
     "output_type": "execute_result"
    }
   ],
   "source": [
    "customer_claims"
   ]
  },
  {
   "cell_type": "code",
   "execution_count": 9,
   "id": "f56c527c",
   "metadata": {},
   "outputs": [
    {
     "name": "stdout",
     "output_type": "stream",
     "text": [
      "<class 'pandas.core.frame.DataFrame'>\n",
      "Int64Index: 1100 entries, 0 to 1099\n",
      "Data columns (total 15 columns):\n",
      " #   Column               Non-Null Count  Dtype  \n",
      "---  ------               --------------  -----  \n",
      " 0   claim_id             1100 non-null   int64  \n",
      " 1   customer_id          1100 non-null   int64  \n",
      " 2   incident_cause       1100 non-null   object \n",
      " 3   claim_date           1100 non-null   object \n",
      " 4   claim_area           1100 non-null   object \n",
      " 5   police_report        1100 non-null   object \n",
      " 6   claim_type           1100 non-null   object \n",
      " 7   claim_amount         1035 non-null   object \n",
      " 8   total_policy_claims  1090 non-null   float64\n",
      " 9   fraudulent           1100 non-null   object \n",
      " 10  gender               1085 non-null   object \n",
      " 11  date_of_birth        1085 non-null   object \n",
      " 12  state                1085 non-null   object \n",
      " 13  contact              1085 non-null   object \n",
      " 14  segment              1085 non-null   object \n",
      "dtypes: float64(1), int64(2), object(12)\n",
      "memory usage: 137.5+ KB\n"
     ]
    }
   ],
   "source": [
    "customer_claims.info()"
   ]
  },
  {
   "cell_type": "code",
   "execution_count": 10,
   "id": "cfd6f488",
   "metadata": {},
   "outputs": [
    {
     "data": {
      "text/html": [
       "<div>\n",
       "<style scoped>\n",
       "    .dataframe tbody tr th:only-of-type {\n",
       "        vertical-align: middle;\n",
       "    }\n",
       "\n",
       "    .dataframe tbody tr th {\n",
       "        vertical-align: top;\n",
       "    }\n",
       "\n",
       "    .dataframe thead th {\n",
       "        text-align: right;\n",
       "    }\n",
       "</style>\n",
       "<table border=\"1\" class=\"dataframe\">\n",
       "  <thead>\n",
       "    <tr style=\"text-align: right;\">\n",
       "      <th></th>\n",
       "      <th>claim_id</th>\n",
       "      <th>customer_id</th>\n",
       "      <th>total_policy_claims</th>\n",
       "    </tr>\n",
       "  </thead>\n",
       "  <tbody>\n",
       "    <tr>\n",
       "      <th>count</th>\n",
       "      <td>1.100000e+03</td>\n",
       "      <td>1.100000e+03</td>\n",
       "      <td>1090.000000</td>\n",
       "    </tr>\n",
       "    <tr>\n",
       "      <th>mean</th>\n",
       "      <td>4.883819e+07</td>\n",
       "      <td>5.079954e+07</td>\n",
       "      <td>1.591743</td>\n",
       "    </tr>\n",
       "    <tr>\n",
       "      <th>std</th>\n",
       "      <td>2.918806e+07</td>\n",
       "      <td>2.847727e+07</td>\n",
       "      <td>1.147251</td>\n",
       "    </tr>\n",
       "    <tr>\n",
       "      <th>min</th>\n",
       "      <td>2.683200e+04</td>\n",
       "      <td>1.545570e+05</td>\n",
       "      <td>1.000000</td>\n",
       "    </tr>\n",
       "    <tr>\n",
       "      <th>25%</th>\n",
       "      <td>2.381580e+07</td>\n",
       "      <td>2.647951e+07</td>\n",
       "      <td>1.000000</td>\n",
       "    </tr>\n",
       "    <tr>\n",
       "      <th>50%</th>\n",
       "      <td>4.853933e+07</td>\n",
       "      <td>4.979007e+07</td>\n",
       "      <td>1.000000</td>\n",
       "    </tr>\n",
       "    <tr>\n",
       "      <th>75%</th>\n",
       "      <td>7.407447e+07</td>\n",
       "      <td>7.601978e+07</td>\n",
       "      <td>2.000000</td>\n",
       "    </tr>\n",
       "    <tr>\n",
       "      <th>max</th>\n",
       "      <td>9.977548e+07</td>\n",
       "      <td>9.996199e+07</td>\n",
       "      <td>8.000000</td>\n",
       "    </tr>\n",
       "  </tbody>\n",
       "</table>\n",
       "</div>"
      ],
      "text/plain": [
       "           claim_id   customer_id  total_policy_claims\n",
       "count  1.100000e+03  1.100000e+03          1090.000000\n",
       "mean   4.883819e+07  5.079954e+07             1.591743\n",
       "std    2.918806e+07  2.847727e+07             1.147251\n",
       "min    2.683200e+04  1.545570e+05             1.000000\n",
       "25%    2.381580e+07  2.647951e+07             1.000000\n",
       "50%    4.853933e+07  4.979007e+07             1.000000\n",
       "75%    7.407447e+07  7.601978e+07             2.000000\n",
       "max    9.977548e+07  9.996199e+07             8.000000"
      ]
     },
     "execution_count": 10,
     "metadata": {},
     "output_type": "execute_result"
    }
   ],
   "source": [
    "# 5-point summary\n",
    "customer_claims.describe()"
   ]
  },
  {
   "cell_type": "code",
   "execution_count": 11,
   "id": "d0ff8edc",
   "metadata": {},
   "outputs": [
    {
     "data": {
      "text/html": [
       "<div>\n",
       "<style scoped>\n",
       "    .dataframe tbody tr th:only-of-type {\n",
       "        vertical-align: middle;\n",
       "    }\n",
       "\n",
       "    .dataframe tbody tr th {\n",
       "        vertical-align: top;\n",
       "    }\n",
       "\n",
       "    .dataframe thead th {\n",
       "        text-align: right;\n",
       "    }\n",
       "</style>\n",
       "<table border=\"1\" class=\"dataframe\">\n",
       "  <thead>\n",
       "    <tr style=\"text-align: right;\">\n",
       "      <th></th>\n",
       "      <th>claim_id</th>\n",
       "      <th>customer_id</th>\n",
       "      <th>incident_cause</th>\n",
       "      <th>claim_date</th>\n",
       "      <th>claim_area</th>\n",
       "      <th>police_report</th>\n",
       "      <th>claim_type</th>\n",
       "      <th>claim_amount</th>\n",
       "      <th>total_policy_claims</th>\n",
       "      <th>fraudulent</th>\n",
       "      <th>gender</th>\n",
       "      <th>date_of_birth</th>\n",
       "      <th>state</th>\n",
       "      <th>contact</th>\n",
       "      <th>segment</th>\n",
       "    </tr>\n",
       "  </thead>\n",
       "  <tbody>\n",
       "    <tr>\n",
       "      <th>count</th>\n",
       "      <td>1.100000e+03</td>\n",
       "      <td>1.100000e+03</td>\n",
       "      <td>1100</td>\n",
       "      <td>1100</td>\n",
       "      <td>1100</td>\n",
       "      <td>1100</td>\n",
       "      <td>1100</td>\n",
       "      <td>1035</td>\n",
       "      <td>1090.000000</td>\n",
       "      <td>1100</td>\n",
       "      <td>1085</td>\n",
       "      <td>1085</td>\n",
       "      <td>1085</td>\n",
       "      <td>1085</td>\n",
       "      <td>1085</td>\n",
       "    </tr>\n",
       "    <tr>\n",
       "      <th>unique</th>\n",
       "      <td>NaN</td>\n",
       "      <td>NaN</td>\n",
       "      <td>5</td>\n",
       "      <td>100</td>\n",
       "      <td>2</td>\n",
       "      <td>3</td>\n",
       "      <td>3</td>\n",
       "      <td>683</td>\n",
       "      <td>NaN</td>\n",
       "      <td>2</td>\n",
       "      <td>2</td>\n",
       "      <td>1078</td>\n",
       "      <td>50</td>\n",
       "      <td>1078</td>\n",
       "      <td>3</td>\n",
       "    </tr>\n",
       "    <tr>\n",
       "      <th>top</th>\n",
       "      <td>NaN</td>\n",
       "      <td>NaN</td>\n",
       "      <td>Other causes</td>\n",
       "      <td>04/04/2018</td>\n",
       "      <td>Auto</td>\n",
       "      <td>No</td>\n",
       "      <td>Material only</td>\n",
       "      <td>$2090</td>\n",
       "      <td>NaN</td>\n",
       "      <td>No</td>\n",
       "      <td>Male</td>\n",
       "      <td>18-Oct-72</td>\n",
       "      <td>NY</td>\n",
       "      <td>743-569-4783</td>\n",
       "      <td>Gold</td>\n",
       "    </tr>\n",
       "    <tr>\n",
       "      <th>freq</th>\n",
       "      <td>NaN</td>\n",
       "      <td>NaN</td>\n",
       "      <td>290</td>\n",
       "      <td>18</td>\n",
       "      <td>985</td>\n",
       "      <td>630</td>\n",
       "      <td>663</td>\n",
       "      <td>7</td>\n",
       "      <td>NaN</td>\n",
       "      <td>846</td>\n",
       "      <td>556</td>\n",
       "      <td>2</td>\n",
       "      <td>31</td>\n",
       "      <td>2</td>\n",
       "      <td>375</td>\n",
       "    </tr>\n",
       "    <tr>\n",
       "      <th>mean</th>\n",
       "      <td>4.883819e+07</td>\n",
       "      <td>5.079954e+07</td>\n",
       "      <td>NaN</td>\n",
       "      <td>NaN</td>\n",
       "      <td>NaN</td>\n",
       "      <td>NaN</td>\n",
       "      <td>NaN</td>\n",
       "      <td>NaN</td>\n",
       "      <td>1.591743</td>\n",
       "      <td>NaN</td>\n",
       "      <td>NaN</td>\n",
       "      <td>NaN</td>\n",
       "      <td>NaN</td>\n",
       "      <td>NaN</td>\n",
       "      <td>NaN</td>\n",
       "    </tr>\n",
       "    <tr>\n",
       "      <th>std</th>\n",
       "      <td>2.918806e+07</td>\n",
       "      <td>2.847727e+07</td>\n",
       "      <td>NaN</td>\n",
       "      <td>NaN</td>\n",
       "      <td>NaN</td>\n",
       "      <td>NaN</td>\n",
       "      <td>NaN</td>\n",
       "      <td>NaN</td>\n",
       "      <td>1.147251</td>\n",
       "      <td>NaN</td>\n",
       "      <td>NaN</td>\n",
       "      <td>NaN</td>\n",
       "      <td>NaN</td>\n",
       "      <td>NaN</td>\n",
       "      <td>NaN</td>\n",
       "    </tr>\n",
       "    <tr>\n",
       "      <th>min</th>\n",
       "      <td>2.683200e+04</td>\n",
       "      <td>1.545570e+05</td>\n",
       "      <td>NaN</td>\n",
       "      <td>NaN</td>\n",
       "      <td>NaN</td>\n",
       "      <td>NaN</td>\n",
       "      <td>NaN</td>\n",
       "      <td>NaN</td>\n",
       "      <td>1.000000</td>\n",
       "      <td>NaN</td>\n",
       "      <td>NaN</td>\n",
       "      <td>NaN</td>\n",
       "      <td>NaN</td>\n",
       "      <td>NaN</td>\n",
       "      <td>NaN</td>\n",
       "    </tr>\n",
       "    <tr>\n",
       "      <th>25%</th>\n",
       "      <td>2.381580e+07</td>\n",
       "      <td>2.647951e+07</td>\n",
       "      <td>NaN</td>\n",
       "      <td>NaN</td>\n",
       "      <td>NaN</td>\n",
       "      <td>NaN</td>\n",
       "      <td>NaN</td>\n",
       "      <td>NaN</td>\n",
       "      <td>1.000000</td>\n",
       "      <td>NaN</td>\n",
       "      <td>NaN</td>\n",
       "      <td>NaN</td>\n",
       "      <td>NaN</td>\n",
       "      <td>NaN</td>\n",
       "      <td>NaN</td>\n",
       "    </tr>\n",
       "    <tr>\n",
       "      <th>50%</th>\n",
       "      <td>4.853933e+07</td>\n",
       "      <td>4.979007e+07</td>\n",
       "      <td>NaN</td>\n",
       "      <td>NaN</td>\n",
       "      <td>NaN</td>\n",
       "      <td>NaN</td>\n",
       "      <td>NaN</td>\n",
       "      <td>NaN</td>\n",
       "      <td>1.000000</td>\n",
       "      <td>NaN</td>\n",
       "      <td>NaN</td>\n",
       "      <td>NaN</td>\n",
       "      <td>NaN</td>\n",
       "      <td>NaN</td>\n",
       "      <td>NaN</td>\n",
       "    </tr>\n",
       "    <tr>\n",
       "      <th>75%</th>\n",
       "      <td>7.407447e+07</td>\n",
       "      <td>7.601978e+07</td>\n",
       "      <td>NaN</td>\n",
       "      <td>NaN</td>\n",
       "      <td>NaN</td>\n",
       "      <td>NaN</td>\n",
       "      <td>NaN</td>\n",
       "      <td>NaN</td>\n",
       "      <td>2.000000</td>\n",
       "      <td>NaN</td>\n",
       "      <td>NaN</td>\n",
       "      <td>NaN</td>\n",
       "      <td>NaN</td>\n",
       "      <td>NaN</td>\n",
       "      <td>NaN</td>\n",
       "    </tr>\n",
       "    <tr>\n",
       "      <th>max</th>\n",
       "      <td>9.977548e+07</td>\n",
       "      <td>9.996199e+07</td>\n",
       "      <td>NaN</td>\n",
       "      <td>NaN</td>\n",
       "      <td>NaN</td>\n",
       "      <td>NaN</td>\n",
       "      <td>NaN</td>\n",
       "      <td>NaN</td>\n",
       "      <td>8.000000</td>\n",
       "      <td>NaN</td>\n",
       "      <td>NaN</td>\n",
       "      <td>NaN</td>\n",
       "      <td>NaN</td>\n",
       "      <td>NaN</td>\n",
       "      <td>NaN</td>\n",
       "    </tr>\n",
       "  </tbody>\n",
       "</table>\n",
       "</div>"
      ],
      "text/plain": [
       "            claim_id   customer_id incident_cause  claim_date claim_area  \\\n",
       "count   1.100000e+03  1.100000e+03           1100        1100       1100   \n",
       "unique           NaN           NaN              5         100          2   \n",
       "top              NaN           NaN   Other causes  04/04/2018       Auto   \n",
       "freq             NaN           NaN            290          18        985   \n",
       "mean    4.883819e+07  5.079954e+07            NaN         NaN        NaN   \n",
       "std     2.918806e+07  2.847727e+07            NaN         NaN        NaN   \n",
       "min     2.683200e+04  1.545570e+05            NaN         NaN        NaN   \n",
       "25%     2.381580e+07  2.647951e+07            NaN         NaN        NaN   \n",
       "50%     4.853933e+07  4.979007e+07            NaN         NaN        NaN   \n",
       "75%     7.407447e+07  7.601978e+07            NaN         NaN        NaN   \n",
       "max     9.977548e+07  9.996199e+07            NaN         NaN        NaN   \n",
       "\n",
       "       police_report     claim_type claim_amount  total_policy_claims  \\\n",
       "count           1100           1100         1035          1090.000000   \n",
       "unique             3              3          683                  NaN   \n",
       "top               No  Material only        $2090                  NaN   \n",
       "freq             630            663            7                  NaN   \n",
       "mean             NaN            NaN          NaN             1.591743   \n",
       "std              NaN            NaN          NaN             1.147251   \n",
       "min              NaN            NaN          NaN             1.000000   \n",
       "25%              NaN            NaN          NaN             1.000000   \n",
       "50%              NaN            NaN          NaN             1.000000   \n",
       "75%              NaN            NaN          NaN             2.000000   \n",
       "max              NaN            NaN          NaN             8.000000   \n",
       "\n",
       "       fraudulent gender date_of_birth state       contact segment  \n",
       "count        1100   1085          1085  1085          1085    1085  \n",
       "unique          2      2          1078    50          1078       3  \n",
       "top            No   Male     18-Oct-72    NY  743-569-4783    Gold  \n",
       "freq          846    556             2    31             2     375  \n",
       "mean          NaN    NaN           NaN   NaN           NaN     NaN  \n",
       "std           NaN    NaN           NaN   NaN           NaN     NaN  \n",
       "min           NaN    NaN           NaN   NaN           NaN     NaN  \n",
       "25%           NaN    NaN           NaN   NaN           NaN     NaN  \n",
       "50%           NaN    NaN           NaN   NaN           NaN     NaN  \n",
       "75%           NaN    NaN           NaN   NaN           NaN     NaN  \n",
       "max           NaN    NaN           NaN   NaN           NaN     NaN  "
      ]
     },
     "execution_count": 11,
     "metadata": {},
     "output_type": "execute_result"
    }
   ],
   "source": [
    "# 5-point summary\n",
    "customer_claims.describe(include='all')"
   ]
  },
  {
   "cell_type": "code",
   "execution_count": 12,
   "id": "ecd01cf2",
   "metadata": {},
   "outputs": [
    {
     "data": {
      "text/plain": [
       "0       False\n",
       "1       False\n",
       "2       False\n",
       "3       False\n",
       "4       False\n",
       "        ...  \n",
       "1095    False\n",
       "1096    False\n",
       "1097    False\n",
       "1098    False\n",
       "1099    False\n",
       "Length: 1100, dtype: bool"
      ]
     },
     "execution_count": 12,
     "metadata": {},
     "output_type": "execute_result"
    }
   ],
   "source": [
    "# Checking for duplicates\n",
    "customer_claims.duplicated()"
   ]
  },
  {
   "cell_type": "markdown",
   "id": "d74fe0a3",
   "metadata": {},
   "source": [
    "### 2. Perform a data audit for the datatypes and find out if there are any mismatch within the current datatypes of the columns and their business significance."
   ]
  },
  {
   "cell_type": "code",
   "execution_count": 13,
   "id": "ef3864e6",
   "metadata": {},
   "outputs": [
    {
     "data": {
      "text/plain": [
       "claim_id                 int64\n",
       "customer_id              int64\n",
       "incident_cause          object\n",
       "claim_date              object\n",
       "claim_area              object\n",
       "police_report           object\n",
       "claim_type              object\n",
       "claim_amount            object\n",
       "total_policy_claims    float64\n",
       "fraudulent              object\n",
       "gender                  object\n",
       "date_of_birth           object\n",
       "state                   object\n",
       "contact                 object\n",
       "segment                 object\n",
       "dtype: object"
      ]
     },
     "execution_count": 13,
     "metadata": {},
     "output_type": "execute_result"
    }
   ],
   "source": [
    "customer_claims.dtypes"
   ]
  },
  {
   "cell_type": "code",
   "execution_count": 14,
   "id": "644ca06b",
   "metadata": {},
   "outputs": [],
   "source": [
    "# Convert 'claim_date' to datetime\n",
    "customer_claims['claim_date'] = pd.to_datetime(customer_claims['claim_date'])"
   ]
  },
  {
   "cell_type": "code",
   "execution_count": 15,
   "id": "8e8977e6",
   "metadata": {},
   "outputs": [],
   "source": [
    "customer_claims['date_of_birth'] = pd.to_datetime(customer_claims['date_of_birth'])"
   ]
  },
  {
   "cell_type": "markdown",
   "id": "6a5fc395",
   "metadata": {},
   "source": [
    "### 3. Convert the column claim_amount to numeric. Use the appropriate modules/attributes to remove the $ sign"
   ]
  },
  {
   "cell_type": "code",
   "execution_count": 16,
   "id": "093c2ca4",
   "metadata": {},
   "outputs": [],
   "source": [
    "# converting claim_amount column into numeric/float\n",
    "customer_claims['claim_amount'] = customer_claims['claim_amount'].str.slice(start=1).astype(np.float64)"
   ]
  },
  {
   "cell_type": "code",
   "execution_count": 17,
   "id": "658e4a91",
   "metadata": {},
   "outputs": [
    {
     "data": {
      "text/plain": [
       "claim_id                        int64\n",
       "customer_id                     int64\n",
       "incident_cause                 object\n",
       "claim_date             datetime64[ns]\n",
       "claim_area                     object\n",
       "police_report                  object\n",
       "claim_type                     object\n",
       "claim_amount                  float64\n",
       "total_policy_claims           float64\n",
       "fraudulent                     object\n",
       "gender                         object\n",
       "date_of_birth          datetime64[ns]\n",
       "state                          object\n",
       "contact                        object\n",
       "segment                        object\n",
       "dtype: object"
      ]
     },
     "execution_count": 17,
     "metadata": {},
     "output_type": "execute_result"
    }
   ],
   "source": [
    "customer_claims.dtypes"
   ]
  },
  {
   "cell_type": "markdown",
   "id": "ccb25d07",
   "metadata": {},
   "source": [
    "### 4. Of all the injury claims, some of them have gone unreported with the police. Create an alert flag (1,0) for all such claims."
   ]
  },
  {
   "cell_type": "code",
   "execution_count": 18,
   "id": "d0c9251f",
   "metadata": {},
   "outputs": [],
   "source": [
    "# an alert flag for unreported injury claims\n",
    "customer_claims['alert_flag'] = ((customer_claims['claim_type'] == 'Material and injury') | (customer_claims['claim_type'] == 'Injury only')) & (customer_claims['police_report'] == 'No')\n",
    "customer_claims['alert_flag'] = customer_claims['alert_flag'].astype(int)"
   ]
  },
  {
   "cell_type": "code",
   "execution_count": 19,
   "id": "254da961",
   "metadata": {},
   "outputs": [
    {
     "data": {
      "text/html": [
       "<div>\n",
       "<style scoped>\n",
       "    .dataframe tbody tr th:only-of-type {\n",
       "        vertical-align: middle;\n",
       "    }\n",
       "\n",
       "    .dataframe tbody tr th {\n",
       "        vertical-align: top;\n",
       "    }\n",
       "\n",
       "    .dataframe thead th {\n",
       "        text-align: right;\n",
       "    }\n",
       "</style>\n",
       "<table border=\"1\" class=\"dataframe\">\n",
       "  <thead>\n",
       "    <tr style=\"text-align: right;\">\n",
       "      <th></th>\n",
       "      <th>claim_type</th>\n",
       "      <th>police_report</th>\n",
       "      <th>alert_flag</th>\n",
       "    </tr>\n",
       "  </thead>\n",
       "  <tbody>\n",
       "    <tr>\n",
       "      <th>0</th>\n",
       "      <td>Material only</td>\n",
       "      <td>No</td>\n",
       "      <td>0</td>\n",
       "    </tr>\n",
       "    <tr>\n",
       "      <th>1</th>\n",
       "      <td>Material only</td>\n",
       "      <td>Unknown</td>\n",
       "      <td>0</td>\n",
       "    </tr>\n",
       "    <tr>\n",
       "      <th>2</th>\n",
       "      <td>Material only</td>\n",
       "      <td>No</td>\n",
       "      <td>0</td>\n",
       "    </tr>\n",
       "    <tr>\n",
       "      <th>3</th>\n",
       "      <td>Material only</td>\n",
       "      <td>No</td>\n",
       "      <td>0</td>\n",
       "    </tr>\n",
       "    <tr>\n",
       "      <th>4</th>\n",
       "      <td>Material only</td>\n",
       "      <td>No</td>\n",
       "      <td>0</td>\n",
       "    </tr>\n",
       "    <tr>\n",
       "      <th>...</th>\n",
       "      <td>...</td>\n",
       "      <td>...</td>\n",
       "      <td>...</td>\n",
       "    </tr>\n",
       "    <tr>\n",
       "      <th>1095</th>\n",
       "      <td>Material only</td>\n",
       "      <td>No</td>\n",
       "      <td>0</td>\n",
       "    </tr>\n",
       "    <tr>\n",
       "      <th>1096</th>\n",
       "      <td>Material only</td>\n",
       "      <td>No</td>\n",
       "      <td>0</td>\n",
       "    </tr>\n",
       "    <tr>\n",
       "      <th>1097</th>\n",
       "      <td>Material and injury</td>\n",
       "      <td>No</td>\n",
       "      <td>1</td>\n",
       "    </tr>\n",
       "    <tr>\n",
       "      <th>1098</th>\n",
       "      <td>Material and injury</td>\n",
       "      <td>Unknown</td>\n",
       "      <td>0</td>\n",
       "    </tr>\n",
       "    <tr>\n",
       "      <th>1099</th>\n",
       "      <td>Material and injury</td>\n",
       "      <td>Yes</td>\n",
       "      <td>0</td>\n",
       "    </tr>\n",
       "  </tbody>\n",
       "</table>\n",
       "<p>1100 rows × 3 columns</p>\n",
       "</div>"
      ],
      "text/plain": [
       "               claim_type police_report  alert_flag\n",
       "0           Material only            No           0\n",
       "1           Material only       Unknown           0\n",
       "2           Material only            No           0\n",
       "3           Material only            No           0\n",
       "4           Material only            No           0\n",
       "...                   ...           ...         ...\n",
       "1095        Material only            No           0\n",
       "1096        Material only            No           0\n",
       "1097  Material and injury            No           1\n",
       "1098  Material and injury       Unknown           0\n",
       "1099  Material and injury           Yes           0\n",
       "\n",
       "[1100 rows x 3 columns]"
      ]
     },
     "execution_count": 19,
     "metadata": {},
     "output_type": "execute_result"
    }
   ],
   "source": [
    "# Display the updated DataFrame with the new 'alert_flag' column\n",
    "(customer_claims[['claim_type', 'police_report', 'alert_flag']])"
   ]
  },
  {
   "cell_type": "code",
   "execution_count": 20,
   "id": "7d7be547",
   "metadata": {},
   "outputs": [
    {
     "data": {
      "text/html": [
       "<div>\n",
       "<style scoped>\n",
       "    .dataframe tbody tr th:only-of-type {\n",
       "        vertical-align: middle;\n",
       "    }\n",
       "\n",
       "    .dataframe tbody tr th {\n",
       "        vertical-align: top;\n",
       "    }\n",
       "\n",
       "    .dataframe thead th {\n",
       "        text-align: right;\n",
       "    }\n",
       "</style>\n",
       "<table border=\"1\" class=\"dataframe\">\n",
       "  <thead>\n",
       "    <tr style=\"text-align: right;\">\n",
       "      <th></th>\n",
       "      <th>claim_type</th>\n",
       "      <th>police_report</th>\n",
       "      <th>alert_flag</th>\n",
       "    </tr>\n",
       "  </thead>\n",
       "  <tbody>\n",
       "    <tr>\n",
       "      <th>0</th>\n",
       "      <td>Material only</td>\n",
       "      <td>No</td>\n",
       "      <td>0</td>\n",
       "    </tr>\n",
       "    <tr>\n",
       "      <th>1</th>\n",
       "      <td>Material only</td>\n",
       "      <td>Unknown</td>\n",
       "      <td>0</td>\n",
       "    </tr>\n",
       "    <tr>\n",
       "      <th>2</th>\n",
       "      <td>Material only</td>\n",
       "      <td>No</td>\n",
       "      <td>0</td>\n",
       "    </tr>\n",
       "    <tr>\n",
       "      <th>3</th>\n",
       "      <td>Material only</td>\n",
       "      <td>No</td>\n",
       "      <td>0</td>\n",
       "    </tr>\n",
       "    <tr>\n",
       "      <th>4</th>\n",
       "      <td>Material only</td>\n",
       "      <td>No</td>\n",
       "      <td>0</td>\n",
       "    </tr>\n",
       "    <tr>\n",
       "      <th>5</th>\n",
       "      <td>Injury only</td>\n",
       "      <td>No</td>\n",
       "      <td>1</td>\n",
       "    </tr>\n",
       "  </tbody>\n",
       "</table>\n",
       "</div>"
      ],
      "text/plain": [
       "      claim_type police_report  alert_flag\n",
       "0  Material only            No           0\n",
       "1  Material only       Unknown           0\n",
       "2  Material only            No           0\n",
       "3  Material only            No           0\n",
       "4  Material only            No           0\n",
       "5    Injury only            No           1"
      ]
     },
     "execution_count": 20,
     "metadata": {},
     "output_type": "execute_result"
    }
   ],
   "source": [
    "(customer_claims[['claim_type', 'police_report', 'alert_flag']]).head(6)"
   ]
  },
  {
   "cell_type": "markdown",
   "id": "cd2a56e8",
   "metadata": {},
   "source": [
    "### 5. One customer can claim for insurance more than once and in each claim,multiple categories of claims can be involved. However, customer ID should remain unique. Retain the most recent observation and delete any duplicated records in the data based on the customer ID column."
   ]
  },
  {
   "cell_type": "code",
   "execution_count": 21,
   "id": "923f74c8",
   "metadata": {},
   "outputs": [],
   "source": [
    "# Sort by 'customer_id' and 'claim_date'\n",
    "customer_claims = customer_claims.sort_values(['customer_id', 'claim_date'])\n",
    "\n",
    "# Drop duplicates\n",
    "customer_claims = customer_claims.drop_duplicates('customer_id', keep='last')"
   ]
  },
  {
   "cell_type": "code",
   "execution_count": 22,
   "id": "63170ed7",
   "metadata": {},
   "outputs": [
    {
     "data": {
      "text/html": [
       "<div>\n",
       "<style scoped>\n",
       "    .dataframe tbody tr th:only-of-type {\n",
       "        vertical-align: middle;\n",
       "    }\n",
       "\n",
       "    .dataframe tbody tr th {\n",
       "        vertical-align: top;\n",
       "    }\n",
       "\n",
       "    .dataframe thead th {\n",
       "        text-align: right;\n",
       "    }\n",
       "</style>\n",
       "<table border=\"1\" class=\"dataframe\">\n",
       "  <thead>\n",
       "    <tr style=\"text-align: right;\">\n",
       "      <th></th>\n",
       "      <th>claim_id</th>\n",
       "      <th>customer_id</th>\n",
       "      <th>incident_cause</th>\n",
       "      <th>claim_date</th>\n",
       "      <th>claim_area</th>\n",
       "      <th>police_report</th>\n",
       "      <th>claim_type</th>\n",
       "      <th>claim_amount</th>\n",
       "      <th>total_policy_claims</th>\n",
       "      <th>fraudulent</th>\n",
       "      <th>gender</th>\n",
       "      <th>date_of_birth</th>\n",
       "      <th>state</th>\n",
       "      <th>contact</th>\n",
       "      <th>segment</th>\n",
       "      <th>alert_flag</th>\n",
       "    </tr>\n",
       "  </thead>\n",
       "  <tbody>\n",
       "    <tr>\n",
       "      <th>184</th>\n",
       "      <td>69348631</td>\n",
       "      <td>154557</td>\n",
       "      <td>Driver error</td>\n",
       "      <td>2018-04-10</td>\n",
       "      <td>Auto</td>\n",
       "      <td>No</td>\n",
       "      <td>Injury only</td>\n",
       "      <td>NaN</td>\n",
       "      <td>1.0</td>\n",
       "      <td>Yes</td>\n",
       "      <td>Female</td>\n",
       "      <td>1978-05-23</td>\n",
       "      <td>DE</td>\n",
       "      <td>962-879-1238</td>\n",
       "      <td>Platinum</td>\n",
       "      <td>1</td>\n",
       "    </tr>\n",
       "    <tr>\n",
       "      <th>836</th>\n",
       "      <td>40953049</td>\n",
       "      <td>263204</td>\n",
       "      <td>Other causes</td>\n",
       "      <td>2018-04-04</td>\n",
       "      <td>Auto</td>\n",
       "      <td>No</td>\n",
       "      <td>Material and injury</td>\n",
       "      <td>39192.0</td>\n",
       "      <td>1.0</td>\n",
       "      <td>Yes</td>\n",
       "      <td>Male</td>\n",
       "      <td>2072-12-20</td>\n",
       "      <td>TX</td>\n",
       "      <td>173-892-6314</td>\n",
       "      <td>Silver</td>\n",
       "      <td>1</td>\n",
       "    </tr>\n",
       "    <tr>\n",
       "      <th>677</th>\n",
       "      <td>45780237</td>\n",
       "      <td>287476</td>\n",
       "      <td>Natural causes</td>\n",
       "      <td>2017-10-17</td>\n",
       "      <td>Auto</td>\n",
       "      <td>Unknown</td>\n",
       "      <td>Material only</td>\n",
       "      <td>1621.5</td>\n",
       "      <td>2.0</td>\n",
       "      <td>Yes</td>\n",
       "      <td>Male</td>\n",
       "      <td>1988-07-28</td>\n",
       "      <td>FL</td>\n",
       "      <td>364-598-1549</td>\n",
       "      <td>Silver</td>\n",
       "      <td>0</td>\n",
       "    </tr>\n",
       "    <tr>\n",
       "      <th>828</th>\n",
       "      <td>89833962</td>\n",
       "      <td>441097</td>\n",
       "      <td>Other causes</td>\n",
       "      <td>2018-03-21</td>\n",
       "      <td>Auto</td>\n",
       "      <td>Yes</td>\n",
       "      <td>Material and injury</td>\n",
       "      <td>37040.0</td>\n",
       "      <td>1.0</td>\n",
       "      <td>No</td>\n",
       "      <td>Male</td>\n",
       "      <td>2071-08-19</td>\n",
       "      <td>CA</td>\n",
       "      <td>187-348-8375</td>\n",
       "      <td>Gold</td>\n",
       "      <td>0</td>\n",
       "    </tr>\n",
       "    <tr>\n",
       "      <th>505</th>\n",
       "      <td>35782742</td>\n",
       "      <td>524545</td>\n",
       "      <td>Other driver error</td>\n",
       "      <td>2018-07-27</td>\n",
       "      <td>Auto</td>\n",
       "      <td>No</td>\n",
       "      <td>Injury only</td>\n",
       "      <td>35250.0</td>\n",
       "      <td>3.0</td>\n",
       "      <td>No</td>\n",
       "      <td>Female</td>\n",
       "      <td>1980-08-10</td>\n",
       "      <td>NC</td>\n",
       "      <td>798-862-5398</td>\n",
       "      <td>Gold</td>\n",
       "      <td>1</td>\n",
       "    </tr>\n",
       "    <tr>\n",
       "      <th>...</th>\n",
       "      <td>...</td>\n",
       "      <td>...</td>\n",
       "      <td>...</td>\n",
       "      <td>...</td>\n",
       "      <td>...</td>\n",
       "      <td>...</td>\n",
       "      <td>...</td>\n",
       "      <td>...</td>\n",
       "      <td>...</td>\n",
       "      <td>...</td>\n",
       "      <td>...</td>\n",
       "      <td>...</td>\n",
       "      <td>...</td>\n",
       "      <td>...</td>\n",
       "      <td>...</td>\n",
       "      <td>...</td>\n",
       "    </tr>\n",
       "    <tr>\n",
       "      <th>698</th>\n",
       "      <td>4549014</td>\n",
       "      <td>99674324</td>\n",
       "      <td>Other causes</td>\n",
       "      <td>2018-07-07</td>\n",
       "      <td>Auto</td>\n",
       "      <td>No</td>\n",
       "      <td>Injury only</td>\n",
       "      <td>21480.0</td>\n",
       "      <td>1.0</td>\n",
       "      <td>No</td>\n",
       "      <td>Male</td>\n",
       "      <td>2065-01-28</td>\n",
       "      <td>UT</td>\n",
       "      <td>517-562-4916</td>\n",
       "      <td>Silver</td>\n",
       "      <td>1</td>\n",
       "    </tr>\n",
       "    <tr>\n",
       "      <th>999</th>\n",
       "      <td>35453672</td>\n",
       "      <td>99723844</td>\n",
       "      <td>Natural causes</td>\n",
       "      <td>2018-01-06</td>\n",
       "      <td>Auto</td>\n",
       "      <td>Yes</td>\n",
       "      <td>Material and injury</td>\n",
       "      <td>14360.0</td>\n",
       "      <td>1.0</td>\n",
       "      <td>No</td>\n",
       "      <td>Female</td>\n",
       "      <td>2066-06-19</td>\n",
       "      <td>HI</td>\n",
       "      <td>457-752-1374</td>\n",
       "      <td>Gold</td>\n",
       "      <td>0</td>\n",
       "    </tr>\n",
       "    <tr>\n",
       "      <th>68</th>\n",
       "      <td>37305754</td>\n",
       "      <td>99761663</td>\n",
       "      <td>Natural causes</td>\n",
       "      <td>2018-04-04</td>\n",
       "      <td>Auto</td>\n",
       "      <td>No</td>\n",
       "      <td>Material only</td>\n",
       "      <td>1242.0</td>\n",
       "      <td>1.0</td>\n",
       "      <td>Yes</td>\n",
       "      <td>Female</td>\n",
       "      <td>2063-11-18</td>\n",
       "      <td>NC</td>\n",
       "      <td>643-246-4718</td>\n",
       "      <td>Silver</td>\n",
       "      <td>0</td>\n",
       "    </tr>\n",
       "    <tr>\n",
       "      <th>936</th>\n",
       "      <td>22960702</td>\n",
       "      <td>99892000</td>\n",
       "      <td>Driver error</td>\n",
       "      <td>2017-11-13</td>\n",
       "      <td>Auto</td>\n",
       "      <td>No</td>\n",
       "      <td>Material only</td>\n",
       "      <td>2415.0</td>\n",
       "      <td>2.0</td>\n",
       "      <td>Yes</td>\n",
       "      <td>Male</td>\n",
       "      <td>1995-06-08</td>\n",
       "      <td>OR</td>\n",
       "      <td>395-246-6172</td>\n",
       "      <td>Gold</td>\n",
       "      <td>0</td>\n",
       "    </tr>\n",
       "    <tr>\n",
       "      <th>747</th>\n",
       "      <td>47262068</td>\n",
       "      <td>99961993</td>\n",
       "      <td>Driver error</td>\n",
       "      <td>2018-10-23</td>\n",
       "      <td>Home</td>\n",
       "      <td>No</td>\n",
       "      <td>Material only</td>\n",
       "      <td>2310.0</td>\n",
       "      <td>1.0</td>\n",
       "      <td>No</td>\n",
       "      <td>Male</td>\n",
       "      <td>1995-06-10</td>\n",
       "      <td>AL</td>\n",
       "      <td>234-943-2876</td>\n",
       "      <td>Platinum</td>\n",
       "      <td>0</td>\n",
       "    </tr>\n",
       "  </tbody>\n",
       "</table>\n",
       "<p>1093 rows × 16 columns</p>\n",
       "</div>"
      ],
      "text/plain": [
       "     claim_id  customer_id      incident_cause claim_date claim_area  \\\n",
       "184  69348631       154557        Driver error 2018-04-10       Auto   \n",
       "836  40953049       263204        Other causes 2018-04-04       Auto   \n",
       "677  45780237       287476      Natural causes 2017-10-17       Auto   \n",
       "828  89833962       441097        Other causes 2018-03-21       Auto   \n",
       "505  35782742       524545  Other driver error 2018-07-27       Auto   \n",
       "..        ...          ...                 ...        ...        ...   \n",
       "698   4549014     99674324        Other causes 2018-07-07       Auto   \n",
       "999  35453672     99723844      Natural causes 2018-01-06       Auto   \n",
       "68   37305754     99761663      Natural causes 2018-04-04       Auto   \n",
       "936  22960702     99892000        Driver error 2017-11-13       Auto   \n",
       "747  47262068     99961993        Driver error 2018-10-23       Home   \n",
       "\n",
       "    police_report           claim_type  claim_amount  total_policy_claims  \\\n",
       "184            No          Injury only           NaN                  1.0   \n",
       "836            No  Material and injury       39192.0                  1.0   \n",
       "677       Unknown        Material only        1621.5                  2.0   \n",
       "828           Yes  Material and injury       37040.0                  1.0   \n",
       "505            No          Injury only       35250.0                  3.0   \n",
       "..            ...                  ...           ...                  ...   \n",
       "698            No          Injury only       21480.0                  1.0   \n",
       "999           Yes  Material and injury       14360.0                  1.0   \n",
       "68             No        Material only        1242.0                  1.0   \n",
       "936            No        Material only        2415.0                  2.0   \n",
       "747            No        Material only        2310.0                  1.0   \n",
       "\n",
       "    fraudulent  gender date_of_birth state       contact   segment  alert_flag  \n",
       "184        Yes  Female    1978-05-23    DE  962-879-1238  Platinum           1  \n",
       "836        Yes    Male    2072-12-20    TX  173-892-6314    Silver           1  \n",
       "677        Yes    Male    1988-07-28    FL  364-598-1549    Silver           0  \n",
       "828         No    Male    2071-08-19    CA  187-348-8375      Gold           0  \n",
       "505         No  Female    1980-08-10    NC  798-862-5398      Gold           1  \n",
       "..         ...     ...           ...   ...           ...       ...         ...  \n",
       "698         No    Male    2065-01-28    UT  517-562-4916    Silver           1  \n",
       "999         No  Female    2066-06-19    HI  457-752-1374      Gold           0  \n",
       "68         Yes  Female    2063-11-18    NC  643-246-4718    Silver           0  \n",
       "936        Yes    Male    1995-06-08    OR  395-246-6172      Gold           0  \n",
       "747         No    Male    1995-06-10    AL  234-943-2876  Platinum           0  \n",
       "\n",
       "[1093 rows x 16 columns]"
      ]
     },
     "execution_count": 22,
     "metadata": {},
     "output_type": "execute_result"
    }
   ],
   "source": [
    "customer_claims"
   ]
  },
  {
   "cell_type": "markdown",
   "id": "4e25c26b",
   "metadata": {},
   "source": [
    "### 6. Check for missing values and impute the missing values with an appropriate value. (mean for continuous and mode for categorical)"
   ]
  },
  {
   "cell_type": "code",
   "execution_count": 23,
   "id": "b47041b1",
   "metadata": {},
   "outputs": [
    {
     "data": {
      "text/plain": [
       "claim_id                0\n",
       "customer_id             0\n",
       "incident_cause          0\n",
       "claim_date              0\n",
       "claim_area              0\n",
       "police_report           0\n",
       "claim_type              0\n",
       "claim_amount           65\n",
       "total_policy_claims    10\n",
       "fraudulent              0\n",
       "gender                 15\n",
       "date_of_birth          15\n",
       "state                  15\n",
       "contact                15\n",
       "segment                15\n",
       "alert_flag              0\n",
       "dtype: int64"
      ]
     },
     "execution_count": 23,
     "metadata": {},
     "output_type": "execute_result"
    }
   ],
   "source": [
    "customer_claims.isnull().sum()"
   ]
  },
  {
   "cell_type": "code",
   "execution_count": 24,
   "id": "8ac4b31f",
   "metadata": {},
   "outputs": [],
   "source": [
    "# Imputing missing values for continuous columns (numeric)\n",
    "numeric_columns = customer_claims.select_dtypes(include=['float64', 'int64']).columns\n",
    "for column in numeric_columns:\n",
    "    if customer_claims[column].isnull().any():\n",
    "        customer_claims[column].fillna(customer_claims[column].mean(), inplace=True)\n",
    "\n",
    "# Imputing missing values for categorical columns (object)\n",
    "categorical_columns = customer_claims.select_dtypes(include=['object']).columns\n",
    "for column in categorical_columns:\n",
    "    if customer_claims[column].isnull().any():\n",
    "        mode_val = customer_claims[column].mode()[0]\n",
    "        customer_claims[column].fillna(mode_val, inplace=True)"
   ]
  },
  {
   "cell_type": "code",
   "execution_count": 25,
   "id": "17cee9a5",
   "metadata": {
    "scrolled": false
   },
   "outputs": [
    {
     "data": {
      "text/plain": [
       "claim_id                0\n",
       "customer_id             0\n",
       "incident_cause          0\n",
       "claim_date              0\n",
       "claim_area              0\n",
       "police_report           0\n",
       "claim_type              0\n",
       "claim_amount            0\n",
       "total_policy_claims     0\n",
       "fraudulent              0\n",
       "gender                  0\n",
       "date_of_birth          15\n",
       "state                   0\n",
       "contact                 0\n",
       "segment                 0\n",
       "alert_flag              0\n",
       "dtype: int64"
      ]
     },
     "execution_count": 25,
     "metadata": {},
     "output_type": "execute_result"
    }
   ],
   "source": [
    "customer_claims.isnull().sum()"
   ]
  },
  {
   "cell_type": "markdown",
   "id": "91e37e84",
   "metadata": {},
   "source": [
    "### 7. Calculate the age of customers in years. Based on the age, categorize thecustomers according to the below criteria:  Children < 18 ;  Youth 18-30 ;  Adult 30-60 ;  Senior > 60"
   ]
  },
  {
   "cell_type": "code",
   "execution_count": 26,
   "id": "3b227dc0",
   "metadata": {},
   "outputs": [],
   "source": [
    "# Calculate the age of customers\n",
    "customer_claims['age'] = (dt.datetime.now() - customer_claims['date_of_birth']).dt.days // 365\n",
    "\n",
    "# Categorize customers based on their age\n",
    "customer_claims['age_category'] = pd.cut(customer_claims['age'], bins=[0, 18, 30, 60, np.inf], labels=['Children', 'Youth', 'Adult', 'Senior'])"
   ]
  },
  {
   "cell_type": "code",
   "execution_count": 27,
   "id": "725f7abc",
   "metadata": {},
   "outputs": [
    {
     "data": {
      "text/html": [
       "<div>\n",
       "<style scoped>\n",
       "    .dataframe tbody tr th:only-of-type {\n",
       "        vertical-align: middle;\n",
       "    }\n",
       "\n",
       "    .dataframe tbody tr th {\n",
       "        vertical-align: top;\n",
       "    }\n",
       "\n",
       "    .dataframe thead th {\n",
       "        text-align: right;\n",
       "    }\n",
       "</style>\n",
       "<table border=\"1\" class=\"dataframe\">\n",
       "  <thead>\n",
       "    <tr style=\"text-align: right;\">\n",
       "      <th></th>\n",
       "      <th>date_of_birth</th>\n",
       "      <th>age</th>\n",
       "      <th>age_category</th>\n",
       "    </tr>\n",
       "  </thead>\n",
       "  <tbody>\n",
       "    <tr>\n",
       "      <th>184</th>\n",
       "      <td>1978-05-23</td>\n",
       "      <td>45.0</td>\n",
       "      <td>Adult</td>\n",
       "    </tr>\n",
       "    <tr>\n",
       "      <th>836</th>\n",
       "      <td>2072-12-20</td>\n",
       "      <td>-50.0</td>\n",
       "      <td>NaN</td>\n",
       "    </tr>\n",
       "    <tr>\n",
       "      <th>677</th>\n",
       "      <td>1988-07-28</td>\n",
       "      <td>35.0</td>\n",
       "      <td>Adult</td>\n",
       "    </tr>\n",
       "    <tr>\n",
       "      <th>828</th>\n",
       "      <td>2071-08-19</td>\n",
       "      <td>-48.0</td>\n",
       "      <td>NaN</td>\n",
       "    </tr>\n",
       "    <tr>\n",
       "      <th>505</th>\n",
       "      <td>1980-08-10</td>\n",
       "      <td>43.0</td>\n",
       "      <td>Adult</td>\n",
       "    </tr>\n",
       "    <tr>\n",
       "      <th>...</th>\n",
       "      <td>...</td>\n",
       "      <td>...</td>\n",
       "      <td>...</td>\n",
       "    </tr>\n",
       "    <tr>\n",
       "      <th>698</th>\n",
       "      <td>2065-01-28</td>\n",
       "      <td>-42.0</td>\n",
       "      <td>NaN</td>\n",
       "    </tr>\n",
       "    <tr>\n",
       "      <th>999</th>\n",
       "      <td>2066-06-19</td>\n",
       "      <td>-43.0</td>\n",
       "      <td>NaN</td>\n",
       "    </tr>\n",
       "    <tr>\n",
       "      <th>68</th>\n",
       "      <td>2063-11-18</td>\n",
       "      <td>-40.0</td>\n",
       "      <td>NaN</td>\n",
       "    </tr>\n",
       "    <tr>\n",
       "      <th>936</th>\n",
       "      <td>1995-06-08</td>\n",
       "      <td>28.0</td>\n",
       "      <td>Youth</td>\n",
       "    </tr>\n",
       "    <tr>\n",
       "      <th>747</th>\n",
       "      <td>1995-06-10</td>\n",
       "      <td>28.0</td>\n",
       "      <td>Youth</td>\n",
       "    </tr>\n",
       "  </tbody>\n",
       "</table>\n",
       "<p>1093 rows × 3 columns</p>\n",
       "</div>"
      ],
      "text/plain": [
       "    date_of_birth   age age_category\n",
       "184    1978-05-23  45.0        Adult\n",
       "836    2072-12-20 -50.0          NaN\n",
       "677    1988-07-28  35.0        Adult\n",
       "828    2071-08-19 -48.0          NaN\n",
       "505    1980-08-10  43.0        Adult\n",
       "..            ...   ...          ...\n",
       "698    2065-01-28 -42.0          NaN\n",
       "999    2066-06-19 -43.0          NaN\n",
       "68     2063-11-18 -40.0          NaN\n",
       "936    1995-06-08  28.0        Youth\n",
       "747    1995-06-10  28.0        Youth\n",
       "\n",
       "[1093 rows x 3 columns]"
      ]
     },
     "execution_count": 27,
     "metadata": {},
     "output_type": "execute_result"
    }
   ],
   "source": [
    "customer_claims[['date_of_birth', 'age', 'age_category']]"
   ]
  },
  {
   "cell_type": "markdown",
   "id": "1f6c2c97",
   "metadata": {},
   "source": [
    "### 8. What is the average amount claimed by the customers from various segments?"
   ]
  },
  {
   "cell_type": "code",
   "execution_count": 28,
   "id": "032ab5d0",
   "metadata": {},
   "outputs": [
    {
     "name": "stdout",
     "output_type": "stream",
     "text": [
      "segment\n",
      "Gold        12761.663185\n",
      "Platinum    12370.565077\n",
      "Silver      12265.736955\n",
      "Name: claim_amount, dtype: float64\n"
     ]
    }
   ],
   "source": [
    "# Calculate the average claim amount by segment\n",
    "average_claim_by_segment = customer_claims.groupby('segment')['claim_amount'].mean()\n",
    "\n",
    "# Print the result\n",
    "print(average_claim_by_segment)"
   ]
  },
  {
   "cell_type": "markdown",
   "id": "c863cd8b",
   "metadata": {},
   "source": [
    "### 9. What is the total claim amount based on incident cause for all the claims that have been done at least 20 days prior to 1st of October, 2018."
   ]
  },
  {
   "cell_type": "code",
   "execution_count": 29,
   "id": "ea28f69c",
   "metadata": {},
   "outputs": [
    {
     "name": "stdout",
     "output_type": "stream",
     "text": [
      "incident_cause\n",
      "Crime                  726959.5\n",
      "Driver error          3344546.0\n",
      "Natural causes        1315301.0\n",
      "Other causes          3778023.5\n",
      "Other driver error    3342803.0\n",
      "Name: claim_amount, dtype: float64\n"
     ]
    }
   ],
   "source": [
    "# Define the cutoff date\n",
    "cutoff_date = dt.datetime.strptime('2018-10-01', '%Y-%m-%d') - pd.DateOffset(days=20)\n",
    "\n",
    "# Filter the data for claims done at least 20 days prior to 1st of October, 2018\n",
    "filtered_data = customer_claims[customer_claims['claim_date'] < cutoff_date]\n",
    "\n",
    "# Calculate the total claim amount by incident cause\n",
    "total_claim_by_cause = filtered_data.groupby('incident_cause')['claim_amount'].sum()\n",
    "total_claim_by_cause = total_claim_by_cause.round(1)\n",
    "# Print the result\n",
    "print(total_claim_by_cause)"
   ]
  },
  {
   "cell_type": "markdown",
   "id": "4a9afd2a",
   "metadata": {},
   "source": [
    "### 10. How many adults from TX, DE and AK claimed insurance for driver related issues and causes?"
   ]
  },
  {
   "cell_type": "code",
   "execution_count": 30,
   "id": "7510f3b1",
   "metadata": {},
   "outputs": [
    {
     "name": "stdout",
     "output_type": "stream",
     "text": [
      "20\n"
     ]
    }
   ],
   "source": [
    "# Filter the data and calculate the number of adults\n",
    "num_adults = len(customer_claims[(customer_claims['age_category'] == 'Adult') &\n",
    "                                 (customer_claims['state'].isin(['TX', 'DE', 'AK'])) &\n",
    "                                 (customer_claims['incident_cause'].isin(['Driver error', 'Other driver error']))])\n",
    "print(num_adults)"
   ]
  },
  {
   "cell_type": "markdown",
   "id": "3dc51daa",
   "metadata": {},
   "source": [
    "### 11. Draw a pie chart between the aggregated value of claim amount based on gender and segment. Represent the claim amount as a percentage on the pie chart."
   ]
  },
  {
   "cell_type": "code",
   "execution_count": 31,
   "id": "fac7df15",
   "metadata": {},
   "outputs": [
    {
     "data": {
      "image/png": "[encoded data removed]",
      "text/plain": [
       "<Figure size 640x480 with 1 Axes>"
      ]
     },
     "metadata": {},
     "output_type": "display_data"
    }
   ],
   "source": [
    "# Calculate the aggregated value of claim amount based on gender and segment\n",
    "agg = customer_claims.groupby(['gender', 'segment'])['claim_amount'].sum()\n",
    "\n",
    "# a pie chart\n",
    "fig, ax = plt.subplots()\n",
    "ax.pie(agg, labels=agg.index, autopct='%1.1f%%')\n",
    "plt.title('Aggregated Claim Amount by Gender and Segment')\n",
    "plt.show()"
   ]
  },
  {
   "cell_type": "markdown",
   "id": "110172ec",
   "metadata": {},
   "source": [
    "### 12. Among males and females, which gender had claimed the most for any type of driver related issues? E.g. This metric can be compared using a bar chart"
   ]
  },
  {
   "cell_type": "code",
   "execution_count": 32,
   "id": "2570e963",
   "metadata": {},
   "outputs": [
    {
     "data": {
      "image/png": "[encoded data removed]",
      "text/plain": [
       "<Figure size 640x480 with 1 Axes>"
      ]
     },
     "metadata": {},
     "output_type": "display_data"
    }
   ],
   "source": [
    "total_claim_by_gender = customer_claims[customer_claims['incident_cause'].isin(['Driver error', 'Other driver error'])].groupby('gender')['claim_amount'].sum()\n",
    "# Create a bar chart\n",
    "total_claim_by_gender.plot(kind='bar')\n",
    "plt.title('Total Claim Amount by Gender for Driver Related Issues')\n",
    "plt.xlabel('Gender')\n",
    "plt.ylabel('Total Claim Amount')\n",
    "plt.show()"
   ]
  },
  {
   "cell_type": "markdown",
   "id": "76d5ed26",
   "metadata": {},
   "source": [
    "### 13. Which age group had the maximum fraudulent policy claims? Visualize it on a bar chart."
   ]
  },
  {
   "cell_type": "code",
   "execution_count": 33,
   "id": "499ff8ae",
   "metadata": {},
   "outputs": [
    {
     "data": {
      "text/plain": [
       "Adult       119\n",
       "Youth        39\n",
       "Children      0\n",
       "Senior        0\n",
       "Name: age_category, dtype: int64"
      ]
     },
     "execution_count": 33,
     "metadata": {},
     "output_type": "execute_result"
    }
   ],
   "source": [
    "# Filter the data for fraudulent policy claims\n",
    "fraudulent_claims = customer_claims[customer_claims['fraudulent'] == 'Yes']  \n",
    "\n",
    "# Calculate the number of fraudulent claims for each age group\n",
    "fraudulent_claims_by_age_group = fraudulent_claims['age_category'].value_counts()\n",
    "fraudulent_claims_by_age_group"
   ]
  },
  {
   "cell_type": "code",
   "execution_count": 34,
   "id": "bad24483",
   "metadata": {},
   "outputs": [
    {
     "data": {
      "image/png": "[encoded data removed]",
      "text/plain": [
       "<Figure size 640x480 with 1 Axes>"
      ]
     },
     "metadata": {},
     "output_type": "display_data"
    }
   ],
   "source": [
    "# Create a bar chart\n",
    "fraudulent_claims_by_age_group.plot(kind='bar')\n",
    "plt.title('Number of Fraudulent Policy Claims by Age Group')\n",
    "plt.xlabel('Age Group')\n",
    "plt.ylabel('Number of Fraudulent Claims')\n",
    "plt.show()"
   ]
  },
  {
   "cell_type": "markdown",
   "id": "e5fa408b",
   "metadata": {},
   "source": [
    "### 14. Visualize the monthly trend of the total amount that has been claimed by the customers. Ensure that on the “month” axis, the month is in a chronological order not alphabetical order."
   ]
  },
  {
   "cell_type": "code",
   "execution_count": 35,
   "id": "9154669b",
   "metadata": {},
   "outputs": [],
   "source": [
    "# Extract the month and year from 'claim_date'\n",
    "customer_claims['claim_month_year'] = customer_claims['claim_date'].dt.to_period('M')\n",
    "\n",
    "# Calculate the total claim amount for each month\n",
    "total_claim_by_month = customer_claims.groupby('claim_month_year')['claim_amount'].sum()\n"
   ]
  },
  {
   "cell_type": "code",
   "execution_count": 36,
   "id": "ba627b8a",
   "metadata": {},
   "outputs": [
    {
     "data": {
      "image/png": "[encoded data removed]",
      "text/plain": [
       "<Figure size 640x480 with 1 Axes>"
      ]
     },
     "metadata": {},
     "output_type": "display_data"
    }
   ],
   "source": [
    "# Create a bar chart\n",
    "total_claim_by_month.plot(kind='bar')\n",
    "plt.title('Monthly Trend of Total Claim Amount')\n",
    "plt.xlabel('Month')\n",
    "plt.ylabel('Total Claim Amount')\n",
    "plt.show()"
   ]
  },
  {
   "cell_type": "markdown",
   "id": "40a6ba7d",
   "metadata": {},
   "source": [
    "### 15. What is the average claim amount for gender and age categories and suitably represent the above using a facetted bar chart, one facet that represents fraudulent claims and the other for non-fraudulent claims."
   ]
  },
  {
   "cell_type": "code",
   "execution_count": 37,
   "id": "f834faf8",
   "metadata": {},
   "outputs": [],
   "source": [
    "# Filter data for fraudulent and non-fraudulent claims separately\n",
    "fraudulent_data = customer_claims[customer_claims['fraudulent'] == 'Yes']\n",
    "non_fraudulent_data = customer_claims[customer_claims['fraudulent'] == 'No']\n",
    "\n",
    "# Calculate average claim amount for gender and age categories\n",
    "average_claim_fraudulent = fraudulent_data.groupby(['gender', 'age_category'])['claim_amount'].mean().reset_index()\n",
    "average_claim_non_fraudulent = non_fraudulent_data.groupby(['gender', 'age_category'])['claim_amount'].mean().reset_index()"
   ]
  },
  {
   "cell_type": "code",
   "execution_count": 38,
   "id": "41867011",
   "metadata": {},
   "outputs": [
    {
     "data": {
      "image/png": "[encoded data removed]",
      "text/plain": [
       "<Figure size 1200x600 with 2 Axes>"
      ]
     },
     "metadata": {},
     "output_type": "display_data"
    }
   ],
   "source": [
    "# Plot facetted bar charts for fraudulent and non-fraudulent claims\n",
    "plt.figure(figsize=(12, 6))\n",
    "\n",
    "plt.subplot(1, 2, 1)\n",
    "sns.barplot(x='gender', y='claim_amount', hue='age_category', data=average_claim_fraudulent)\n",
    "plt.title('Average Claim Amount - Fraudulent Claims')\n",
    "plt.xlabel('Gender')\n",
    "plt.ylabel('Average Claim Amount')\n",
    "\n",
    "plt.subplot(1, 2, 2)\n",
    "sns.barplot(x='gender', y='claim_amount', hue='age_category', data=average_claim_non_fraudulent)\n",
    "plt.title('Average Claim Amount - Non-Fraudulent Claims')\n",
    "plt.xlabel('Gender')\n",
    "plt.ylabel('Average Claim Amount')\n",
    "\n",
    "plt.tight_layout()\n",
    "plt.show()"
   ]
  },
  {
   "cell_type": "markdown",
   "id": "051f5ed8",
   "metadata": {},
   "source": [
    "### Based on the conclusions from exploratory analysis as well as suitable statistical tests, answer the below questions. Please include a detailed write-up on the parameters taken into consideration, the Hypothesis testing steps, conclusion from the p-values and the business implications of the statements. "
   ]
  },
  {
   "cell_type": "markdown",
   "id": "fbcb588b",
   "metadata": {},
   "source": [
    "### 16. Is there any similarity in the amount claimed by males and females?"
   ]
  },
  {
   "cell_type": "code",
   "execution_count": 39,
   "id": "3e43578a",
   "metadata": {},
   "outputs": [
    {
     "name": "stdout",
     "output_type": "stream",
     "text": [
      "mean male spend:  12825.38866164359 | mean female spend:  12099.717240787364 \n",
      "\n"
     ]
    }
   ],
   "source": [
    "# average amount claimed by male and female\n",
    "\n",
    "male_spend=customer_claims['claim_amount'].loc[customer_claims.gender=='Male']\n",
    "female_spend=customer_claims['claim_amount'].loc[customer_claims.gender=='Female']\n",
    "print( 'mean male spend: ', male_spend.mean(), '| mean female spend: ', female_spend.mean(), '\\n' )"
   ]
  },
  {
   "cell_type": "raw",
   "id": "9509d23e",
   "metadata": {},
   "source": [
    "## Parameters Taken into Consideration:\n",
    "-Data: Amount claimed by males and females.\n",
    "-Hypotheses:\n",
    "-Null Hypothesis (H0): The mean amount claimed by males is equal to the mean amount claimed by females.\n",
    "-Alternative Hypothesis (H1): The mean amount claimed by males is different from the mean amount claimed by females.\n",
    "-Significance Level (α): Typically chosen as 0.05.\n",
    "-Hypothesis Testing Steps:\n",
    "-Data Preparation: Separate the amount claimed by males and females.\n",
    "-Hypothesis Formulation: State the null and alternative hypotheses.\n",
    "-Assumption Check: Verify assumptions such as normality and homogeneity of variances.\n",
    "-Conduct T-Test: Use the two-sample t-test to compare the means.\n",
    "-Calculate P-value: Determine the p-value.\n",
    "-Interpretation: Compare the p-value to the significance level (α).\n",
    "-Conclusion: Decide whether to reject or fail to reject the null hypothesis."
   ]
  },
  {
   "cell_type": "code",
   "execution_count": 40,
   "id": "5b0ca186",
   "metadata": {},
   "outputs": [
    {
     "name": "stdout",
     "output_type": "stream",
     "text": [
      "T-statistic: 0.897746972800219\n",
      "P-value: 0.3695185282320991\n"
     ]
    }
   ],
   "source": [
    "from scipy.stats import stats\n",
    "\n",
    "# Filter the data for males and females\n",
    "males = customer_claims[customer_claims['gender'] == 'Male']['claim_amount']\n",
    "females = customer_claims[customer_claims['gender'] == 'Female']['claim_amount']\n",
    "\n",
    "# Perform the t-test\n",
    "t_statistic, p_value = stats.ttest_ind(males, females)\n",
    "print(f'T-statistic: {t_statistic}')\n",
    "print(f'P-value: {p_value}')"
   ]
  },
  {
   "cell_type": "code",
   "execution_count": 41,
   "id": "f003f4d3",
   "metadata": {},
   "outputs": [
    {
     "name": "stdout",
     "output_type": "stream",
     "text": [
      "There is no significant difference in the amount claimed between males and females.\n"
     ]
    }
   ],
   "source": [
    "alpha = 0.05\n",
    "if p_value < alpha:\n",
    "    print(\"There is a significant difference in the amount claimed between males and females.\")\n",
    "else:\n",
    "    print(\"There is no significant difference in the amount claimed between males and females.\")"
   ]
  },
  {
   "cell_type": "raw",
   "id": "6f4b6f1b",
   "metadata": {},
   "source": [
    "## Conclusion from p value\n",
    "P-value > α: Implies insufficient evidence to reject the null hypothesis. The difference in claimed amounts between genders is not statistically significant.\n",
    "-Business Implications:\n",
    "If the p-value is greater than α, we fail to reject the null hypothesis, suggesting that there is no significant difference in the amount claimed by males and females. This insight might indicate parity in claims between genders."
   ]
  },
  {
   "cell_type": "markdown",
   "id": "cf93a9a4",
   "metadata": {},
   "source": [
    "### 17. Is there any relationship between age category and segment?"
   ]
  },
  {
   "cell_type": "raw",
   "id": "a6c7761c",
   "metadata": {},
   "source": [
    "## Parameters Taken into Consideration:\n",
    "Data: 'Age category' and 'Segment.'\n",
    "Hypotheses:\n",
    "Null Hypothesis (H0): There is no relationship between age category and segment.\n",
    "Alternative Hypothesis (H1): There is a relationship between age category and segment.\n",
    "Significance Level (α): Typically chosen as 0.05.\n",
    "Hypothesis Testing Steps:\n",
    "Data Preparation: Create a contingency table to organize counts.\n",
    "Hypothesis Formulation: State the null and alternative hypotheses.\n",
    "Assumption Check: Verify that each cell in the contingency table has an expected count of at least 5 for the test's validity.\n",
    "Conduct Chi-Square Test: Use the chi-square test for independence.\n",
    "Calculate P-value: Determine the p-value.\n",
    "Interpretation: Compare the p-value to the significance level (α).\n",
    "Conclusion: Decide whether to reject or fail to reject the null hypothesis."
   ]
  },
  {
   "cell_type": "code",
   "execution_count": 42,
   "id": "a18e976d",
   "metadata": {},
   "outputs": [
    {
     "name": "stdout",
     "output_type": "stream",
     "text": [
      "Chi-square statistic: 0.27550010606271463\n",
      "P-value: 0.8713164474357424\n"
     ]
    }
   ],
   "source": [
    "import scipy.stats as stats\n",
    "# Create a cross-tabulation table\n",
    "table = pd.crosstab(customer_claims['age_category'], customer_claims['segment'])\n",
    "\n",
    "# Chi-Square Test\n",
    "chi2, p, dof, expected = stats.chi2_contingency(table)\n",
    "\n",
    "print(f\"Chi-square statistic: {chi2}\")\n",
    "print(f\"P-value: {p}\")"
   ]
  },
  {
   "cell_type": "code",
   "execution_count": 43,
   "id": "33a10c2b",
   "metadata": {},
   "outputs": [
    {
     "name": "stdout",
     "output_type": "stream",
     "text": [
      "There is no significant relationship between age category and segment.\n"
     ]
    }
   ],
   "source": [
    "# Interpret p-value \n",
    "alpha = 0.05\n",
    "if p_value < alpha:\n",
    "    print(\"There is a significant relationship between age category and segment.\")\n",
    "else:\n",
    "    print(\"There is no significant relationship between age category and segment.\")"
   ]
  },
  {
   "cell_type": "raw",
   "id": "ec3dab58",
   "metadata": {},
   "source": [
    "## Conclusion From p-VALUE\n",
    "P-value > α: Implies insufficient evidence to reject the null hypothesis. There is no significant relationship between age category and segment.\n",
    "Bussiness Implications:  \n",
    "If No Relationship: Lack of a significant relationship might imply that age category and segment are independent factors in insurance claims. This might indicate a more diverse clientele with varied preferences across age groups and insurance segments.  "
   ]
  },
  {
   "cell_type": "markdown",
   "id": "e13806bd",
   "metadata": {},
   "source": [
    "### 18. The current year has shown a significant rise in claim amounts as compared to 2016-17 fiscal average which was $10,000."
   ]
  },
  {
   "cell_type": "code",
   "execution_count": 44,
   "id": "aab72e13",
   "metadata": {},
   "outputs": [
    {
     "name": "stdout",
     "output_type": "stream",
     "text": [
      "T-statistic: 4.4147704931665\n",
      "P-value: 1.2444078618606088e-05\n"
     ]
    }
   ],
   "source": [
    "# Assume 'current_year = 2018\n",
    "current_year_claims = customer_claims[customer_claims['claim_date'].dt.year == 2018]['claim_amount']\n",
    "\n",
    "t_statistic, p_value = stats.ttest_1samp(current_year_claims, 10000)        # Perform t-test\n",
    "\n",
    "print(f'T-statistic: {t_statistic}')             \n",
    "print(f'P-value: {p_value}')"
   ]
  },
  {
   "cell_type": "code",
   "execution_count": 45,
   "id": "83316136",
   "metadata": {},
   "outputs": [
    {
     "name": "stdout",
     "output_type": "stream",
     "text": [
      "The current year has shown a significant rise in claim amounts.\n"
     ]
    }
   ],
   "source": [
    "alpha = 0.05\n",
    "if p_value < alpha:\n",
    "    print(\"The current year has shown a significant rise in claim amounts.\")\n",
    "else:\n",
    "    print(\"The current year has not shown a significant rise in claim amounts.\")"
   ]
  },
  {
   "cell_type": "raw",
   "id": "98ab0621",
   "metadata": {},
   "source": [
    "# Conclusion from p_value\n",
    "#The p-value obtained is very small (1.2444078618606088e-05), which is less than the typical significance level of 0.05. This means that we can reject the null hypothesis. In the context of test, this suggests that the mean claim amount for the year 2018 is significantly different from the 2016-17 fiscal average of $10,000.\n",
    "-The t-statistic is positive, which indicates that the mean claim amount for 2018 is greater than the 2016-17 fiscal average.\n",
    "Business Implications-\n",
    "this result suggests that claim amounts have significantly increased in 2018 compared to the 2016-17 fiscal year. This could be due to a variety of factors such as changes in policy, increase in the number or severity of incidents, inflation, etc. The insurance company might want to investigate this further to understand the underlying causes of this increase. Depending on the findings, the company might need to adjust their risk assessment models, premium calculations, or other business strategies."
   ]
  },
  {
   "cell_type": "markdown",
   "id": "694e3caf",
   "metadata": {},
   "source": [
    "### 19. Is there any difference between age groups and insurance claims?"
   ]
  },
  {
   "cell_type": "code",
   "execution_count": 46,
   "id": "344f6a40",
   "metadata": {},
   "outputs": [],
   "source": [
    "# insurance claims means in term of claim_amount or total_policy_claim is not mentioned\n",
    "# Assumed total_policy_claim"
   ]
  },
  {
   "cell_type": "code",
   "execution_count": 47,
   "id": "cfb3add6",
   "metadata": {},
   "outputs": [
    {
     "name": "stdout",
     "output_type": "stream",
     "text": [
      "The f-value is 1.1865420221957397 and the p value is 0.2763906167958276\n",
      "There is no significant difference in insurance claims across age categories.\n"
     ]
    }
   ],
   "source": [
    "age_group_1 = customer_claims['total_policy_claims'].loc[customer_claims['age_category']==\"Youth\"]\n",
    "age_group_2 = customer_claims['total_policy_claims'].loc[customer_claims['age_category']==\"Adult\"]\n",
    "\n",
    "# Perfrom the Anova\n",
    "anova = stats.f_oneway(age_group_1,age_group_2)\n",
    "\n",
    "# Statistic :  F Value\n",
    "f = anova.statistic\n",
    "p = anova.pvalue\n",
    "print(\"The f-value is {} and the p value is {}\".format(f,p))\n",
    "\n",
    "if(p<0.05):\n",
    "    print('There is significant difference in insurance claims across age categories.')\n",
    "else:\n",
    "    print('There is no significant difference in insurance claims across age categories.')"
   ]
  },
  {
   "cell_type": "raw",
   "id": "3f85230f",
   "metadata": {},
   "source": [
    "# Conclusion from tests\n",
    "The f-value statistic is 1.1 and a p-value of 0.276 suggest that we fail to reject the null hypothesis, this means there is no statistical evidence to suggest that the distribution of claims across the ‘Youth’ and ‘Adult’ age categories is different from what would be expected if the claims were evenly distributed across these categories.\n",
    "\n",
    "In terms of business implications, this result suggests that the number of claims does not significantly differ between the ‘Youth’ and ‘Adult’ age categories"
   ]
  },
  {
   "cell_type": "markdown",
   "id": "fd0b9fe2",
   "metadata": {},
   "source": [
    "### Q. 19 Another Way - by claim_amount and age_category"
   ]
  },
  {
   "cell_type": "code",
   "execution_count": 48,
   "id": "60db4f3d",
   "metadata": {},
   "outputs": [
    {
     "data": {
      "text/plain": [
       "age_category\n",
       "Children    0.000000e+00\n",
       "Youth       2.464623e+06\n",
       "Adult       6.811855e+06\n",
       "Senior      0.000000e+00\n",
       "Name: claim_amount, dtype: float64"
      ]
     },
     "execution_count": 48,
     "metadata": {},
     "output_type": "execute_result"
    }
   ],
   "source": [
    "customer_claims.groupby('age_category')['claim_amount'].sum()"
   ]
  },
  {
   "cell_type": "code",
   "execution_count": 49,
   "id": "b8c7a978",
   "metadata": {},
   "outputs": [
    {
     "name": "stdout",
     "output_type": "stream",
     "text": [
      "the mean of Youth claimed amount : 11849.14900104759 |the mean of Adult claimed amount : 13150.299198691466\n"
     ]
    }
   ],
   "source": [
    "age_cat1=customer_claims['claim_amount'].loc[customer_claims.age_category=='Youth']\n",
    "age_cat2=customer_claims['claim_amount'].loc[customer_claims.age_category=='Adult']\n",
    "print('the mean of Youth claimed amount :',age_cat1.mean() ,'|the mean of Adult claimed amount :',age_cat2.mean())"
   ]
  },
  {
   "cell_type": "code",
   "execution_count": 50,
   "id": "6e9261ba",
   "metadata": {},
   "outputs": [
    {
     "data": {
      "text/plain": [
       "Ttest_indResult(statistic=-1.1818074441734296, pvalue=0.23767013161982808)"
      ]
     },
     "execution_count": 50,
     "metadata": {},
     "output_type": "execute_result"
    }
   ],
   "source": [
    "stats.ttest_ind(age_cat1,age_cat2)"
   ]
  },
  {
   "cell_type": "code",
   "execution_count": 51,
   "id": "6b9076b5",
   "metadata": {},
   "outputs": [
    {
     "name": "stdout",
     "output_type": "stream",
     "text": [
      "There is no significant difference in insurance claims across age categories.\n"
     ]
    }
   ],
   "source": [
    "if(p<0.05):\n",
    "    print('There is significant difference in insurance claims across age categories.')\n",
    "else:\n",
    "    print('There is no significant difference in insurance claims across age categories.')"
   ]
  },
  {
   "cell_type": "markdown",
   "id": "36617ecc",
   "metadata": {},
   "source": [
    "Conclusion\n",
    "Since the significance value of the test is greater than 0.05, we fail reject the null hypothesis. Therefore, there is no difference between age_categories and insurance claims or No influence of age_category on insurance claims."
   ]
  },
  {
   "cell_type": "markdown",
   "id": "f3f18dbd",
   "metadata": {},
   "source": [
    "### 20. Is there any relationship between total number of policy claims and the claimed amount?"
   ]
  },
  {
   "cell_type": "code",
   "execution_count": 52,
   "id": "38d2d758",
   "metadata": {},
   "outputs": [
    {
     "name": "stdout",
     "output_type": "stream",
     "text": [
      "Correlation coefficient: -0.023908971978697457\n",
      "P-value: 0.42973091875407876\n"
     ]
    }
   ],
   "source": [
    "# 'total_policy_claims' and 'claim_amount' \n",
    "correlation_coefficient, p_value = stats.pearsonr(customer_claims['total_policy_claims'], customer_claims['claim_amount'])\n",
    "\n",
    "print(f'Correlation coefficient: {correlation_coefficient}')\n",
    "print(f'P-value: {p_value}')"
   ]
  },
  {
   "cell_type": "code",
   "execution_count": 53,
   "id": "0f5cb111",
   "metadata": {},
   "outputs": [
    {
     "name": "stdout",
     "output_type": "stream",
     "text": [
      "There is a significant negative relationship between the total number of policy claims and the claimed amount.\n"
     ]
    }
   ],
   "source": [
    "if correlation_coefficient > 0:\n",
    "        print(\"There is a significant positive relationship between the total number of policy claims and the claimed amount.\")\n",
    "elif correlation_coefficient < 0:\n",
    "        print(\"There is a significant negative relationship between the total number of policy claims and the claimed amount.\")\n",
    "else:\n",
    "        print(\"There is no significant relationship between the total number of policy claims and the claimed amount.\")"
   ]
  },
  {
   "cell_type": "code",
   "execution_count": 54,
   "id": "f7987e1c",
   "metadata": {},
   "outputs": [
    {
     "data": {
      "text/plain": [
       "<seaborn.axisgrid.FacetGrid at 0x1efac1b4d90>"
      ]
     },
     "execution_count": 54,
     "metadata": {},
     "output_type": "execute_result"
    },
    {
     "data": {
      "image/png": "[encoded data removed]",
      "text/plain": [
       "<Figure size 500x500 with 1 Axes>"
      ]
     },
     "metadata": {},
     "output_type": "display_data"
    }
   ],
   "source": [
    "sns.lmplot(x = \"total_policy_claims\", y = \"claim_amount\",data = customer_claims)"
   ]
  },
  {
   "cell_type": "code",
   "execution_count": null,
   "id": "df5809fc",
   "metadata": {},
   "outputs": [],
   "source": []
  }
 ],
 "metadata": {
  "kernelspec": {
   "display_name": "Python 3 (ipykernel)",
   "language": "python",
   "name": "python3"
  },
  "language_info": {
   "codemirror_mode": {
    "name": "ipython",
    "version": 3
   },
   "file_extension": ".py",
   "mimetype": "text/x-python",
   "name": "python",
   "nbconvert_exporter": "python",
   "pygments_lexer": "ipython3",
   "version": "3.11.4"
  }
 },
 "nbformat": 4,
 "nbformat_minor": 5
}
